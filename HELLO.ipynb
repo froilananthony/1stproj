{
  "nbformat": 4,
  "nbformat_minor": 0,
  "metadata": {
    "colab": {
      "name": "HELLO.ipynb",
      "provenance": [],
      "authorship_tag": "ABX9TyNWKLjKcnkJGB4tuN02Tamb",
      "include_colab_link": true
    },
    "kernelspec": {
      "name": "python3",
      "display_name": "Python 3"
    },
    "language_info": {
      "name": "python"
    }
  },
  "cells": [
    {
      "cell_type": "markdown",
      "metadata": {
        "id": "view-in-github",
        "colab_type": "text"
      },
      "source": [
        "<a href=\"https://colab.research.google.com/github/froilananthony/1stproj/blob/main/HELLO.ipynb\" target=\"_parent\"><img src=\"https://colab.research.google.com/assets/colab-badge.svg\" alt=\"Open In Colab\"/></a>"
      ]
    },
    {
      "cell_type": "code",
      "execution_count": null,
      "metadata": {
        "colab": {
          "base_uri": "https://localhost:8080/"
        },
        "id": "IBeo1AlngGhv",
        "outputId": "030a1315-f381-4e89-bef7-10649b054ac9"
      },
      "outputs": [
        {
          "output_type": "stream",
          "name": "stdout",
          "text": [
            "HELLO WORLD MYSELF FROILAN\n"
          ]
        }
      ],
      "source": [
        "print(\"HELLO WORLD MYSELF FROILAN\")"
      ]
    }
  ]
}