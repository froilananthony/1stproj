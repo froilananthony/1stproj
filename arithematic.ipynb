{
  "nbformat": 4,
  "nbformat_minor": 0,
  "metadata": {
    "colab": {
      "name": "arithematic.ipynb",
      "provenance": [],
      "authorship_tag": "ABX9TyNSHOHpD9O4+9uogPZi9jQC",
      "include_colab_link": true
    },
    "kernelspec": {
      "name": "python3",
      "display_name": "Python 3"
    },
    "language_info": {
      "name": "python"
    }
  },
  "cells": [
    {
      "cell_type": "markdown",
      "metadata": {
        "id": "view-in-github",
        "colab_type": "text"
      },
      "source": [
        "<a href=\"https://colab.research.google.com/github/froilananthony/1stproj/blob/main/arithematic.ipynb\" target=\"_parent\"><img src=\"https://colab.research.google.com/assets/colab-badge.svg\" alt=\"Open In Colab\"/></a>"
      ]
    },
    {
      "cell_type": "code",
      "execution_count": 1,
      "metadata": {
        "colab": {
          "base_uri": "https://localhost:8080/"
        },
        "id": "qgoiUM8p05ct",
        "outputId": "ac147527-7b6e-45f4-fa6b-4c5cf0ff8b5f"
      },
      "outputs": [
        {
          "output_type": "stream",
          "name": "stdout",
          "text": [
            "Enter a number: 10\n",
            "Enter a number: 20\n",
            "The sum of 10 and 20 is 30.0\n"
          ]
        }
      ],
      "source": [
        "num1 = input('Enter a number: ')\n",
        "num2 = input('Enter a number: ')\n",
        "sum = float(num1) + float(num2)\n",
        "print('The sum of {0} and {1} is {2}'.format(num1, num2, sum))"
      ]
    }
  ]
}